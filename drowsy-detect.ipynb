{
 "cells": [
  {
   "cell_type": "markdown",
   "id": "85834d93",
   "metadata": {},
   "source": [
    "# 1. Install hthe dependencies\n",
    "axell solis"
   ]
  },
  {
   "cell_type": "code",
   "execution_count": 1,
   "id": "819c52a3",
   "metadata": {},
   "outputs": [
    {
     "name": "stdout",
     "output_type": "stream",
     "text": [
      "Requirement already satisfied: torch in c:\\workspace\\drowsiness\\venv\\lib\\site-packages (1.12.1)\n",
      "Requirement already satisfied: torchvision in c:\\workspace\\drowsiness\\venv\\lib\\site-packages (0.13.1)\n",
      "Requirement already satisfied: torchaudio in c:\\workspace\\drowsiness\\venv\\lib\\site-packages (0.12.1)\n",
      "Requirement already satisfied: typing-extensions in c:\\workspace\\drowsiness\\venv\\lib\\site-packages (from torch) (4.3.0)\n",
      "Requirement already satisfied: requests in c:\\workspace\\drowsiness\\venv\\lib\\site-packages (from torchvision) (2.28.1)\n",
      "Requirement already satisfied: pillow!=8.3.*,>=5.3.0 in c:\\workspace\\drowsiness\\venv\\lib\\site-packages (from torchvision) (9.2.0)\n",
      "Requirement already satisfied: numpy in c:\\workspace\\drowsiness\\venv\\lib\\site-packages (from torchvision) (1.23.3)\n",
      "Requirement already satisfied: urllib3<1.27,>=1.21.1 in c:\\workspace\\drowsiness\\venv\\lib\\site-packages (from requests->torchvision) (1.26.12)\n",
      "Requirement already satisfied: idna<4,>=2.5 in c:\\workspace\\drowsiness\\venv\\lib\\site-packages (from requests->torchvision) (3.4)\n",
      "Requirement already satisfied: charset-normalizer<3,>=2 in c:\\workspace\\drowsiness\\venv\\lib\\site-packages (from requests->torchvision) (2.1.1)\n",
      "Requirement already satisfied: certifi>=2017.4.17 in c:\\workspace\\drowsiness\\venv\\lib\\site-packages (from requests->torchvision) (2022.9.24)\n"
     ]
    },
    {
     "name": "stderr",
     "output_type": "stream",
     "text": [
      "WARNING: You are using pip version 22.0.4; however, version 22.2.2 is available.\n",
      "You should consider upgrading via the 'C:\\workspace\\drowsiness\\venv\\Scripts\\python.exe -m pip install --upgrade pip' command.\n"
     ]
    }
   ],
   "source": [
    "!pip3 install torch torchvision torchaudio"
   ]
  },
  {
   "cell_type": "code",
   "execution_count": 3,
   "id": "e1491aa7",
   "metadata": {
    "collapsed": true
   },
   "outputs": [
    {
     "name": "stderr",
     "output_type": "stream",
     "text": [
      "fatal: destination path 'yolov5' already exists and is not an empty directory.\n"
     ]
    }
   ],
   "source": [
    "!git clone https://github.com/ultralytics/yolov5"
   ]
  },
  {
   "cell_type": "code",
   "execution_count": 2,
   "id": "337f076e",
   "metadata": {},
   "outputs": [
    {
     "name": "stdout",
     "output_type": "stream",
     "text": [
      "Requirement already satisfied: matplotlib>=3.2.2 in c:\\workspace\\drowsiness\\venv\\lib\\site-packages (from -r requirements.txt (line 5)) (3.6.0)\n",
      "Requirement already satisfied: numpy>=1.18.5 in c:\\workspace\\drowsiness\\venv\\lib\\site-packages (from -r requirements.txt (line 6)) (1.23.3)\n",
      "Requirement already satisfied: opencv-python>=4.1.1 in c:\\workspace\\drowsiness\\venv\\lib\\site-packages (from -r requirements.txt (line 7)) (4.6.0.66)\n",
      "Requirement already satisfied: Pillow>=7.1.2 in c:\\workspace\\drowsiness\\venv\\lib\\site-packages (from -r requirements.txt (line 8)) (9.2.0)\n",
      "Requirement already satisfied: PyYAML>=5.3.1 in c:\\workspace\\drowsiness\\venv\\lib\\site-packages (from -r requirements.txt (line 9)) (6.0)\n",
      "Requirement already satisfied: requests>=2.23.0 in c:\\workspace\\drowsiness\\venv\\lib\\site-packages (from -r requirements.txt (line 10)) (2.28.1)\n",
      "Requirement already satisfied: scipy>=1.4.1 in c:\\workspace\\drowsiness\\venv\\lib\\site-packages (from -r requirements.txt (line 11)) (1.9.1)\n",
      "Requirement already satisfied: torch>=1.7.0 in c:\\workspace\\drowsiness\\venv\\lib\\site-packages (from -r requirements.txt (line 12)) (1.12.1)\n",
      "Requirement already satisfied: torchvision>=0.8.1 in c:\\workspace\\drowsiness\\venv\\lib\\site-packages (from -r requirements.txt (line 13)) (0.13.1)\n",
      "Requirement already satisfied: tqdm>=4.64.0 in c:\\workspace\\drowsiness\\venv\\lib\\site-packages (from -r requirements.txt (line 14)) (4.64.1)\n",
      "Requirement already satisfied: tensorboard>=2.4.1 in c:\\workspace\\drowsiness\\venv\\lib\\site-packages (from -r requirements.txt (line 18)) (2.10.1)\n",
      "Requirement already satisfied: pandas>=1.1.4 in c:\\workspace\\drowsiness\\venv\\lib\\site-packages (from -r requirements.txt (line 23)) (1.5.0)\n",
      "Requirement already satisfied: seaborn>=0.11.0 in c:\\workspace\\drowsiness\\venv\\lib\\site-packages (from -r requirements.txt (line 24)) (0.12.0)\n",
      "Requirement already satisfied: ipython in c:\\workspace\\drowsiness\\venv\\lib\\site-packages (from -r requirements.txt (line 41)) (8.5.0)\n",
      "Requirement already satisfied: psutil in c:\\workspace\\drowsiness\\venv\\lib\\site-packages (from -r requirements.txt (line 42)) (5.9.2)\n",
      "Requirement already satisfied: thop>=0.1.1 in c:\\workspace\\drowsiness\\venv\\lib\\site-packages (from -r requirements.txt (line 43)) (0.1.1.post2209072238)\n",
      "Requirement already satisfied: packaging>=20.0 in c:\\workspace\\drowsiness\\venv\\lib\\site-packages (from matplotlib>=3.2.2->-r requirements.txt (line 5)) (21.3)\n",
      "Requirement already satisfied: kiwisolver>=1.0.1 in c:\\workspace\\drowsiness\\venv\\lib\\site-packages (from matplotlib>=3.2.2->-r requirements.txt (line 5)) (1.4.4)\n",
      "Requirement already satisfied: fonttools>=4.22.0 in c:\\workspace\\drowsiness\\venv\\lib\\site-packages (from matplotlib>=3.2.2->-r requirements.txt (line 5)) (4.37.4)\n",
      "Requirement already satisfied: pyparsing>=2.2.1 in c:\\workspace\\drowsiness\\venv\\lib\\site-packages (from matplotlib>=3.2.2->-r requirements.txt (line 5)) (3.0.9)\n",
      "Requirement already satisfied: contourpy>=1.0.1 in c:\\workspace\\drowsiness\\venv\\lib\\site-packages (from matplotlib>=3.2.2->-r requirements.txt (line 5)) (1.0.5)\n",
      "Requirement already satisfied: python-dateutil>=2.7 in c:\\workspace\\drowsiness\\venv\\lib\\site-packages (from matplotlib>=3.2.2->-r requirements.txt (line 5)) (2.8.2)\n",
      "Requirement already satisfied: cycler>=0.10 in c:\\workspace\\drowsiness\\venv\\lib\\site-packages (from matplotlib>=3.2.2->-r requirements.txt (line 5)) (0.11.0)\n",
      "Requirement already satisfied: charset-normalizer<3,>=2 in c:\\workspace\\drowsiness\\venv\\lib\\site-packages (from requests>=2.23.0->-r requirements.txt (line 10)) (2.1.1)\n",
      "Requirement already satisfied: certifi>=2017.4.17 in c:\\workspace\\drowsiness\\venv\\lib\\site-packages (from requests>=2.23.0->-r requirements.txt (line 10)) (2022.9.24)\n",
      "Requirement already satisfied: urllib3<1.27,>=1.21.1 in c:\\workspace\\drowsiness\\venv\\lib\\site-packages (from requests>=2.23.0->-r requirements.txt (line 10)) (1.26.12)\n",
      "Requirement already satisfied: idna<4,>=2.5 in c:\\workspace\\drowsiness\\venv\\lib\\site-packages (from requests>=2.23.0->-r requirements.txt (line 10)) (3.4)\n",
      "Requirement already satisfied: typing-extensions in c:\\workspace\\drowsiness\\venv\\lib\\site-packages (from torch>=1.7.0->-r requirements.txt (line 12)) (4.3.0)\n",
      "Requirement already satisfied: colorama in c:\\workspace\\drowsiness\\venv\\lib\\site-packages (from tqdm>=4.64.0->-r requirements.txt (line 14)) (0.4.5)\n",
      "Requirement already satisfied: wheel>=0.26 in c:\\workspace\\drowsiness\\venv\\lib\\site-packages (from tensorboard>=2.4.1->-r requirements.txt (line 18)) (0.37.1)\n",
      "Requirement already satisfied: protobuf<3.20,>=3.9.2 in c:\\workspace\\drowsiness\\venv\\lib\\site-packages (from tensorboard>=2.4.1->-r requirements.txt (line 18)) (3.19.6)\n",
      "Requirement already satisfied: google-auth-oauthlib<0.5,>=0.4.1 in c:\\workspace\\drowsiness\\venv\\lib\\site-packages (from tensorboard>=2.4.1->-r requirements.txt (line 18)) (0.4.6)\n",
      "Requirement already satisfied: markdown>=2.6.8 in c:\\workspace\\drowsiness\\venv\\lib\\site-packages (from tensorboard>=2.4.1->-r requirements.txt (line 18)) (3.4.1)\n",
      "Requirement already satisfied: google-auth<3,>=1.6.3 in c:\\workspace\\drowsiness\\venv\\lib\\site-packages (from tensorboard>=2.4.1->-r requirements.txt (line 18)) (2.12.0)\n",
      "Requirement already satisfied: werkzeug>=1.0.1 in c:\\workspace\\drowsiness\\venv\\lib\\site-packages (from tensorboard>=2.4.1->-r requirements.txt (line 18)) (2.2.2)\n",
      "Requirement already satisfied: absl-py>=0.4 in c:\\workspace\\drowsiness\\venv\\lib\\site-packages (from tensorboard>=2.4.1->-r requirements.txt (line 18)) (1.2.0)\n",
      "Requirement already satisfied: tensorboard-plugin-wit>=1.6.0 in c:\\workspace\\drowsiness\\venv\\lib\\site-packages (from tensorboard>=2.4.1->-r requirements.txt (line 18)) (1.8.1)\n",
      "Requirement already satisfied: grpcio>=1.24.3 in c:\\workspace\\drowsiness\\venv\\lib\\site-packages (from tensorboard>=2.4.1->-r requirements.txt (line 18)) (1.49.1)\n",
      "Requirement already satisfied: setuptools>=41.0.0 in c:\\workspace\\drowsiness\\venv\\lib\\site-packages (from tensorboard>=2.4.1->-r requirements.txt (line 18)) (58.1.0)\n",
      "Requirement already satisfied: tensorboard-data-server<0.7.0,>=0.6.0 in c:\\workspace\\drowsiness\\venv\\lib\\site-packages (from tensorboard>=2.4.1->-r requirements.txt (line 18)) (0.6.1)\n",
      "Requirement already satisfied: pytz>=2020.1 in c:\\workspace\\drowsiness\\venv\\lib\\site-packages (from pandas>=1.1.4->-r requirements.txt (line 23)) (2022.4)\n",
      "Requirement already satisfied: jedi>=0.16 in c:\\workspace\\drowsiness\\venv\\lib\\site-packages (from ipython->-r requirements.txt (line 41)) (0.18.1)\n",
      "Requirement already satisfied: traitlets>=5 in c:\\workspace\\drowsiness\\venv\\lib\\site-packages (from ipython->-r requirements.txt (line 41)) (5.4.0)\n",
      "Requirement already satisfied: prompt-toolkit<3.1.0,>3.0.1 in c:\\workspace\\drowsiness\\venv\\lib\\site-packages (from ipython->-r requirements.txt (line 41)) (3.0.31)\n",
      "Requirement already satisfied: decorator in c:\\workspace\\drowsiness\\venv\\lib\\site-packages (from ipython->-r requirements.txt (line 41)) (5.1.1)\n",
      "Requirement already satisfied: backcall in c:\\workspace\\drowsiness\\venv\\lib\\site-packages (from ipython->-r requirements.txt (line 41)) (0.2.0)\n",
      "Requirement already satisfied: pygments>=2.4.0 in c:\\workspace\\drowsiness\\venv\\lib\\site-packages (from ipython->-r requirements.txt (line 41)) (2.13.0)\n",
      "Requirement already satisfied: stack-data in c:\\workspace\\drowsiness\\venv\\lib\\site-packages (from ipython->-r requirements.txt (line 41)) (0.5.1)\n",
      "Requirement already satisfied: pickleshare in c:\\workspace\\drowsiness\\venv\\lib\\site-packages (from ipython->-r requirements.txt (line 41)) (0.7.5)\n",
      "Requirement already satisfied: matplotlib-inline in c:\\workspace\\drowsiness\\venv\\lib\\site-packages (from ipython->-r requirements.txt (line 41)) (0.1.6)\n",
      "Requirement already satisfied: cachetools<6.0,>=2.0.0 in c:\\workspace\\drowsiness\\venv\\lib\\site-packages (from google-auth<3,>=1.6.3->tensorboard>=2.4.1->-r requirements.txt (line 18)) (5.2.0)\n",
      "Requirement already satisfied: six>=1.9.0 in c:\\workspace\\drowsiness\\venv\\lib\\site-packages (from google-auth<3,>=1.6.3->tensorboard>=2.4.1->-r requirements.txt (line 18)) (1.16.0)\n",
      "Requirement already satisfied: rsa<5,>=3.1.4 in c:\\workspace\\drowsiness\\venv\\lib\\site-packages (from google-auth<3,>=1.6.3->tensorboard>=2.4.1->-r requirements.txt (line 18)) (4.9)\n",
      "Requirement already satisfied: pyasn1-modules>=0.2.1 in c:\\workspace\\drowsiness\\venv\\lib\\site-packages (from google-auth<3,>=1.6.3->tensorboard>=2.4.1->-r requirements.txt (line 18)) (0.2.8)\n",
      "Requirement already satisfied: requests-oauthlib>=0.7.0 in c:\\workspace\\drowsiness\\venv\\lib\\site-packages (from google-auth-oauthlib<0.5,>=0.4.1->tensorboard>=2.4.1->-r requirements.txt (line 18)) (1.3.1)\n",
      "Requirement already satisfied: parso<0.9.0,>=0.8.0 in c:\\workspace\\drowsiness\\venv\\lib\\site-packages (from jedi>=0.16->ipython->-r requirements.txt (line 41)) (0.8.3)\n",
      "Requirement already satisfied: wcwidth in c:\\workspace\\drowsiness\\venv\\lib\\site-packages (from prompt-toolkit<3.1.0,>3.0.1->ipython->-r requirements.txt (line 41)) (0.2.5)\n",
      "Requirement already satisfied: MarkupSafe>=2.1.1 in c:\\workspace\\drowsiness\\venv\\lib\\site-packages (from werkzeug>=1.0.1->tensorboard>=2.4.1->-r requirements.txt (line 18)) (2.1.1)\n",
      "Requirement already satisfied: asttokens in c:\\workspace\\drowsiness\\venv\\lib\\site-packages (from stack-data->ipython->-r requirements.txt (line 41)) (2.0.8)\n",
      "Requirement already satisfied: pure-eval in c:\\workspace\\drowsiness\\venv\\lib\\site-packages (from stack-data->ipython->-r requirements.txt (line 41)) (0.2.2)\n",
      "Requirement already satisfied: executing in c:\\workspace\\drowsiness\\venv\\lib\\site-packages (from stack-data->ipython->-r requirements.txt (line 41)) (1.1.0)\n",
      "Requirement already satisfied: pyasn1<0.5.0,>=0.4.6 in c:\\workspace\\drowsiness\\venv\\lib\\site-packages (from pyasn1-modules>=0.2.1->google-auth<3,>=1.6.3->tensorboard>=2.4.1->-r requirements.txt (line 18)) (0.4.8)\n",
      "Requirement already satisfied: oauthlib>=3.0.0 in c:\\workspace\\drowsiness\\venv\\lib\\site-packages (from requests-oauthlib>=0.7.0->google-auth-oauthlib<0.5,>=0.4.1->tensorboard>=2.4.1->-r requirements.txt (line 18)) (3.2.1)\n"
     ]
    },
    {
     "name": "stderr",
     "output_type": "stream",
     "text": [
      "WARNING: You are using pip version 22.0.4; however, version 22.2.2 is available.\n",
      "You should consider upgrading via the 'C:\\workspace\\drowsiness\\venv\\Scripts\\python.exe -m pip install --upgrade pip' command.\n"
     ]
    }
   ],
   "source": [
    "!cd yolov5 & pip install -r requirements.txt"
   ]
  },
  {
   "cell_type": "markdown",
   "id": "90888172",
   "metadata": {},
   "source": [
    "# 2. Import the dependencies"
   ]
  },
  {
   "cell_type": "code",
   "execution_count": 3,
   "id": "2c30df06",
   "metadata": {},
   "outputs": [
    {
     "name": "stderr",
     "output_type": "stream",
     "text": [
      "C:\\workspace\\drowsiness\\venv\\lib\\site-packages\\tqdm\\auto.py:22: TqdmWarning: IProgress not found. Please update jupyter and ipywidgets. See https://ipywidgets.readthedocs.io/en/stable/user_install.html\n",
      "  from .autonotebook import tqdm as notebook_tqdm\n"
     ]
    }
   ],
   "source": [
    "import torch\n",
    "from matplotlib import pyplot as plt\n",
    "import cv2\n",
    "import numpy as np"
   ]
  },
  {
   "cell_type": "markdown",
   "id": "513eaa8f",
   "metadata": {},
   "source": [
    "# 2. Load the model"
   ]
  },
  {
   "cell_type": "code",
   "execution_count": 4,
   "id": "29920d1a",
   "metadata": {},
   "outputs": [
    {
     "name": "stderr",
     "output_type": "stream",
     "text": [
      "Using cache found in C:\\Users\\asolis/.cache\\torch\\hub\\ultralytics_yolov5_master\n",
      "YOLOv5  2022-10-3 Python-3.10.4 torch-1.12.1+cpu CPU\n",
      "\n",
      "Fusing layers... \n",
      "YOLOv5s summary: 213 layers, 7225885 parameters, 0 gradients\n",
      "Adding AutoShape... \n"
     ]
    }
   ],
   "source": [
    "model = torch.hub.load('ultralytics/yolov5', 'yolov5s')"
   ]
  },
  {
   "cell_type": "markdown",
   "id": "d7568d02",
   "metadata": {},
   "source": [
    "# 3. Real time detecions"
   ]
  },
  {
   "cell_type": "code",
   "execution_count": 34,
   "id": "5a066c78",
   "metadata": {},
   "outputs": [],
   "source": [
    "cap = cv2.VideoCapture('vid.mp4')\n",
    "\n",
    "while cap.isOpened():\n",
    "    ret, frame = cap.read()\n",
    "    \n",
    "    if not ret:\n",
    "        break\n",
    "    \n",
    "    try:\n",
    "        # Make detection\n",
    "        results = model(frame)\n",
    "        cv2.imshow('Video', np.squeeze(results.render()))\n",
    "    except:\n",
    "        cv2.imshow('Video', frame)\n",
    "    \n",
    "    if cv2.waitKey(1) == ord('q'):\n",
    "        break\n",
    "    \n",
    "cap.release()\n",
    "cv2.destroyAllWindows()"
   ]
  },
  {
   "cell_type": "markdown",
   "id": "3f79133c",
   "metadata": {},
   "source": [
    "# 4. Train custom model"
   ]
  },
  {
   "cell_type": "code",
   "execution_count": 35,
   "id": "54f2d355",
   "metadata": {},
   "outputs": [],
   "source": [
    "import uuid\n",
    "import os\n",
    "import time"
   ]
  },
  {
   "cell_type": "code",
   "execution_count": 36,
   "id": "a3aad203",
   "metadata": {},
   "outputs": [],
   "source": [
    "IMAGES_PATH = os.path.join('data', 'images')\n",
    "labels = ['despierto', 'dormido']\n",
    "number_images = 20"
   ]
  },
  {
   "cell_type": "code",
   "execution_count": 37,
   "id": "7320fe38",
   "metadata": {},
   "outputs": [
    {
     "ename": "SyntaxError",
     "evalue": "'(' was never closed (2896321559.py, line 13)",
     "output_type": "error",
     "traceback": [
      "\u001b[1;36m  Cell \u001b[1;32mIn [37], line 13\u001b[1;36m\u001b[0m\n\u001b[1;33m    img_name = os.path.join(IMAGES_PATH, f\"{label}.{uuid.uuid1()}.jpg\"\u001b[0m\n\u001b[1;37m                           ^\u001b[0m\n\u001b[1;31mSyntaxError\u001b[0m\u001b[1;31m:\u001b[0m '(' was never closed\n"
     ]
    }
   ],
   "source": [
    "cap = cv2.VideoCapture(0)\n",
    "for label in labels:\n",
    "    print(f\"collecting images for {label}\")\n",
    "    time.sleep(5)\n",
    "    \n",
    "    for img_num in range(number_images):\n",
    "        print(\"collecting images for {}, image number {}\".format(label, img_num))\n",
    "        \n",
    "        # Get the frame frome Webcam\n",
    "        ret, frame = cap.read()\n",
    "        \n",
    "        # Create the image path\n",
    "        img_name = os.path.join(IMAGES_PATH, f\"{label}.{uuid.uuid1()}.jpg\")\n",
    "                                \n",
    "        # Saves the image\n",
    "        cv2.imwrite(img_name, frame)\n",
    "        \n",
    "        # Shows the image on the screen\n",
    "        cv2.imshow('Image', frame)\n",
    "        time.sleep(2)\n",
    "        "
   ]
  }
 ],
 "metadata": {
  "kernelspec": {
   "display_name": "Python 3 (ipykernel)",
   "language": "python",
   "name": "python3"
  },
  "language_info": {
   "codemirror_mode": {
    "name": "ipython",
    "version": 3
   },
   "file_extension": ".py",
   "mimetype": "text/x-python",
   "name": "python",
   "nbconvert_exporter": "python",
   "pygments_lexer": "ipython3",
   "version": "3.10.4"
  }
 },
 "nbformat": 4,
 "nbformat_minor": 5
}
